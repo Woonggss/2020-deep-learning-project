{
 "cells": [
  {
   "cell_type": "markdown",
   "metadata": {},
   "source": [
    "◆ 양자화 참고 블로그  \n",
    "http://blog.naver.com/PostView.nhn?blogId=tkdzma8080&logNo=221799579436&parentCategoryNo=23&categoryNo=&viewDate=&isShowPopularPosts=true&from=search  \n",
    "\n",
    ">2020.06.05\n",
    "맨 오른쪽 오류확산법 적용 사진만 추출하는 방법이 필요합니다."
   ]
  },
  {
   "cell_type": "code",
   "execution_count": 1,
   "metadata": {
    "ExecuteTime": {
     "end_time": "2020-06-05T09:41:53.636636Z",
     "start_time": "2020-06-05T09:41:53.304474Z"
    }
   },
   "outputs": [],
   "source": [
    "import cv2\n",
    "import numpy as np\n",
    "from math import ceil, floor\n",
    "from statistics import median\n",
    "import random"
   ]
  },
  {
   "cell_type": "code",
   "execution_count": null,
   "metadata": {
    "ExecuteTime": {
     "start_time": "2020-06-05T09:42:31.623Z"
    }
   },
   "outputs": [],
   "source": [
    "# 이미지 로드 , 이미지 로드 주소 각 자 설정 바랍니다.\n",
    "\n",
    "src = cv2.imread('C:/Users/seohyeonpark/Desktop/Netcarshow_wheel/0-Alfa_Romeo-Giulietta-2019-ig.jpg', cv2.IMREAD_GRAYSCALE)\n",
    "origin = src.copy()\n",
    "mat = np.zeros_like(src)\n",
    "width = src.shape[1]-1\n",
    "height = src.shape[0]-1\n",
    "# ex) src.shape(282, 394)\n",
    "# x in range(0, (394-1))\n",
    "# y in range(0, (282-1))\n",
    "# 아래 for문 range에 동일하게 적용\n",
    "factor = 1\n",
    "for x in range(0, width):\n",
    "    for y in range(0, height):\n",
    "        mat[y][x] = round(src[y][x]*factor/255) * 255 / factor\n",
    "\n",
    "for y in range(0, height):\n",
    "    for x in range(0, width):\n",
    "        oldpixel = src[y][x]\n",
    "        newpixel = round(src[y][x]*factor/255) * 255 / factor\n",
    "        src[y][x] = newpixel\n",
    "        err = int(oldpixel) - int(newpixel)\n",
    "\n",
    "        try:\n",
    "            src[y][x+1] = src[y][x+1] + err * 7/16\n",
    "            src[y+1][x-1] = src[y+1][x-1] + err * 3/16\n",
    "            src[y+1][x] = src[y+1][x] + err * 5/16\n",
    "            src[y+1][x+1] = src[y+1][x+1] + err * 1/16\n",
    "        except IndexError:\n",
    "            continue\n",
    "\n",
    "res = np.hstack([origin, mat, src])\n",
    "cv2.imshow('res', res)\n",
    "cv2.waitKey(0)"
   ]
  },
  {
   "cell_type": "code",
   "execution_count": 3,
   "metadata": {
    "ExecuteTime": {
     "end_time": "2020-06-05T09:42:21.554369Z",
     "start_time": "2020-06-05T09:42:21.535234Z"
    }
   },
   "outputs": [
    {
     "data": {
      "text/plain": [
       "(200, 200)"
      ]
     },
     "execution_count": 3,
     "metadata": {},
     "output_type": "execute_result"
    }
   ],
   "source": [
    "src.shape"
   ]
  }
 ],
 "metadata": {
  "kernelspec": {
   "display_name": "Python 3",
   "language": "python",
   "name": "python3"
  },
  "language_info": {
   "codemirror_mode": {
    "name": "ipython",
    "version": 3
   },
   "file_extension": ".py",
   "mimetype": "text/x-python",
   "name": "python",
   "nbconvert_exporter": "python",
   "pygments_lexer": "ipython3",
   "version": "3.7.6"
  },
  "toc": {
   "base_numbering": 1,
   "nav_menu": {},
   "number_sections": true,
   "sideBar": true,
   "skip_h1_title": false,
   "title_cell": "Table of Contents",
   "title_sidebar": "Contents",
   "toc_cell": false,
   "toc_position": {},
   "toc_section_display": true,
   "toc_window_display": false
  }
 },
 "nbformat": 4,
 "nbformat_minor": 4
}
