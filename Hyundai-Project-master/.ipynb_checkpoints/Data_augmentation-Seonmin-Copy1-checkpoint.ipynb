{
 "cells": [
  {
   "cell_type": "code",
   "execution_count": 62,
   "metadata": {
    "colab": {},
    "colab_type": "code",
    "id": "GlYQGKif1T4h"
   },
   "outputs": [],
   "source": [
    "import glob\n",
    "from PIL import Image\n",
    "from numpy import expand_dims\n",
    "import os\n",
    "import cv2\n",
    "import numpy as np\n",
    "import matplotlib.pyplot as plt\n",
    "import shutil"
   ]
  },
  {
   "cell_type": "markdown",
   "metadata": {},
   "source": [
    "세웅이 모델에 들어가는 이미지 형태는 최종 BGR이여야 함!"
   ]
  },
  {
   "cell_type": "code",
   "execution_count": 77,
   "metadata": {},
   "outputs": [],
   "source": [
    "def original(imgpath):\n",
    "    img = load_img(img_path)\n",
    "    img_array = img_to_array(img)\n",
    "    return img_array"
   ]
  },
  {
   "cell_type": "code",
   "execution_count": 55,
   "metadata": {},
   "outputs": [],
   "source": [
    "# adaptive threshold\n",
    "def threshold(imgpath):\n",
    "    # img = cv2.imread(imgpath)\n",
    "    img = load_img(imgpath)\n",
    "    img = img_to_array(img)\n",
    "    gray_image = cv2.cvtColor(img,cv2.COLOR_BGR2GRAY) #(a,b) -> 2차원으로 변환\n",
    "    gray_image = image_grey.astype('uint8')\n",
    "    th = cv2.adaptiveThreshold(gray_image,255,cv2.ADAPTIVE_THRESH_GAUSSIAN_C, cv2.THRESH_BINARY,99,15)\n",
    "    bgr_image = cv2.cvtColor(th,cv2.COLOR_GRAY2BGR)\n",
    "    return bgr_image"
   ]
  },
  {
   "cell_type": "code",
   "execution_count": 56,
   "metadata": {},
   "outputs": [],
   "source": [
    "# morph gradient\n",
    "def morphology(imgpath):\n",
    "    # img = cv2.imread(imgpath)\n",
    "    img = load_img(imgpath)\n",
    "    img = img_to_array(img)\n",
    "    gray_image = cv2.cvtColor(img,cv2.COLOR_BGR2GRAY) #(a,b) -> 2차원으로 변환\n",
    "    gray_image = image_grey.astype('uint8')\n",
    "    kernel = np.ones((3,3), np.uint8)\n",
    "    img_grad = cv2.morphologyEx(gray_image, cv2.MORPH_GRADIENT, kernel)\n",
    "    bgr_image = cv2.cvtColor(img_grad,cv2.COLOR_GRAY2BGR)\n",
    "    return bgr_image"
   ]
  },
  {
   "cell_type": "code",
   "execution_count": 57,
   "metadata": {},
   "outputs": [],
   "source": [
    "# 솔st 이진화\n",
    "def threshold_sole(imgpath):\n",
    "    #grayscale\n",
    "    # img = cv2.imread(imgpath)\n",
    "    img = load_img(imgpath)\n",
    "    img = img_to_array(img)\n",
    "    gray_image = cv2.cvtColor(img,cv2.COLOR_BGR2GRAY) #(a,b) -> 2차원으로 변환\n",
    "    gray_image = image_grey.astype('uint8')\n",
    "    \n",
    "    # 이미지 대비를 향상\n",
    "    image_enhanced = cv2.equalizeHist(gray_image)\n",
    "    # Adaptive Thresholding 적용 \n",
    "    max_output_value = 255   # 출력 픽셀 강도의 최대값\n",
    "    neighborhood_size = 15\n",
    "    subtract_from_mean = 2\n",
    "    image_binarized = cv2.adaptiveThreshold(image_enhanced,\n",
    "                                          max_output_value,\n",
    "                                          cv2.ADAPTIVE_THRESH_GAUSSIAN_C,\n",
    "                                          cv2.THRESH_BINARY,\n",
    "                                          neighborhood_size,\n",
    "                                          subtract_from_mean)\n",
    "    bgr_image = cv2.cvtColor(image_binarized,cv2.COLOR_GRAY2BGR) # result함수 돌리기 위해 3차원으로 변환 \n",
    "    return bgr_image\n",
    "    \n",
    "    \n",
    "    #kernel = np.ones((11,11), np.uint8)\n",
    "    #image_closed = cv2.morphologyEx(image_binarized, cv2.MORPH_CLOSE, kernel)\n",
    "    #return image_closed\n",
    "\n",
    "    # plot\n",
    "    #plt.imshow(image_binarized, cmap='gray')\n",
    "    #plt.show()"
   ]
  },
  {
   "cell_type": "code",
   "execution_count": 58,
   "metadata": {},
   "outputs": [],
   "source": [
    "# morphology -> adaptive threshold\n",
    "def morph_threshold(imgpath):\n",
    "    kernel = np.ones((3,3), np.uint8)\n",
    "    # img = cv2.imread(imgpath)\n",
    "    img = load_img(imgpath)\n",
    "    img = img_to_array(img)\n",
    "    gray_image = cv2.cvtColor(img,cv2.COLOR_BGR2GRAY)\n",
    "    gray_image = image_grey.astype('uint8')\n",
    "    img2_grad = cv2.morphologyEx(gray_image, cv2.MORPH_GRADIENT, kernel)\n",
    "    th = cv2.adaptiveThreshold(img2_grad, 255, cv2.ADAPTIVE_THRESH_GAUSSIAN_C, cv2.THRESH_BINARY,15,2)\n",
    "    bgr_image = cv2.cvtColor(th,cv2.COLOR_GRAY2BGR) # result함수 돌리기 위해 3차원으로 변환 \n",
    "    return bgr_image"
   ]
  },
  {
   "cell_type": "code",
   "execution_count": 75,
   "metadata": {},
   "outputs": [],
   "source": [
    "# morph_gradient -> 솔st 이진화\n",
    "def morph_threshold_sole(imgpath):\n",
    "    #grayscale\n",
    "        # img = cv2.imread(imgpath)\n",
    "    img = load_img(imgpath)\n",
    "    img = img_to_array(img)\n",
    "    gray_image = cv2.cvtColor(img,cv2.COLOR_BGR2GRAY)\n",
    "    gray_image = image_grey.astype('uint8')\n",
    "    # 이미지 대비를 향상\n",
    "    image_enhanced = cv2.equalizeHist(gray_image)\n",
    "    \n",
    "    kernel = np.ones((3,3), np.uint8)\n",
    "    img2_grad = cv2.morphologyEx(image_enhanced, cv2.MORPH_GRADIENT, kernel)\n",
    "\n",
    "    # Adaptive Thresholding 적용 \n",
    "    max_output_value = 255   # 출력 픽셀 강도의 최대값\n",
    "    neighborhood_size = 15\n",
    "    subtract_from_mean = 2\n",
    "    image_binarized = cv2.adaptiveThreshold(img2_grad,\n",
    "                                          max_output_value,\n",
    "                                          cv2.ADAPTIVE_THRESH_GAUSSIAN_C,\n",
    "                                          cv2.THRESH_BINARY,\n",
    "                                          neighborhood_size,\n",
    "                                          subtract_from_mean)\n",
    "    bgr_image = cv2.cvtColor(image_binarized,cv2.COLOR_GRAY2BGR) # result함수 돌리기 위해 3차원으로 변환 \n",
    "\n",
    "    return bgr_image\n",
    "    \n",
    "    \n",
    "    #kernel = np.ones((11,11), np.uint8)\n",
    "    #image_closed = cv2.morphologyEx(image_binarized, cv2.MORPH_CLOSE, kernel)\n",
    "    #return image_closed\n",
    "\n",
    "    # plot\n",
    "    #plt.imshow(image_binarized, cmap='gray')\n",
    "    #plt.show()"
   ]
  },
  {
   "cell_type": "markdown",
   "metadata": {
    "colab_type": "text",
    "id": "YlvR6d19RpD6"
   },
   "source": [
    "이미지 경로들을 불러와, 파일 이름에 포함되어 있는 번호를 기준으로 자기가 배정받은 번호만 my_img_pathes에 저장.\n",
    "category_nums는 파일 이름에 포함된 번호들을 따로 모아놓는 리스트.(번호 = 카테고리 이므로 하나의 카테고리가 몇 장 들어있는 지 세기 위함)"
   ]
  },
  {
   "cell_type": "code",
   "execution_count": 19,
   "metadata": {},
   "outputs": [],
   "source": [
    "my_img_pathes = glob.glob(\"TuningStar2 이미지 저장 경로/*.jpg\") # 경로를 필요한 이미지들이 저장되어 있는 경로로 지정."
   ]
  },
  {
   "cell_type": "code",
   "execution_count": 20,
   "metadata": {},
   "outputs": [],
   "source": [
    "i = 0\n",
    "for path in img_pathes:\n",
    "    path = path.replace('\\\\','/')\n",
    "    img_pathes[i] = path\n",
    "    i += 1"
   ]
  },
  {
   "cell_type": "code",
   "execution_count": 21,
   "metadata": {},
   "outputs": [
    {
     "data": {
      "text/plain": [
       "['C:/Users/seohyeonpark/프로젝트/TuningStar/0 (1).jpg',\n",
       " 'C:/Users/seohyeonpark/프로젝트/TuningStar/0 (2).jpg',\n",
       " 'C:/Users/seohyeonpark/프로젝트/TuningStar/0 (3).jpg',\n",
       " 'C:/Users/seohyeonpark/프로젝트/TuningStar/1 (1).jpg',\n",
       " 'C:/Users/seohyeonpark/프로젝트/TuningStar/1 (2).jpg']"
      ]
     },
     "execution_count": 21,
     "metadata": {},
     "output_type": "execute_result"
    }
   ],
   "source": [
    "my_img_pathes[:5]"
   ]
  },
  {
   "cell_type": "code",
   "execution_count": 22,
   "metadata": {
    "colab": {},
    "colab_type": "code",
    "id": "4RrVCjcM6Oe2"
   },
   "outputs": [],
   "source": [
    "category_nums=[]\n",
    "for img_path in img_pathes:\n",
    "    num_jpg = img_path.split(\"/\")[-1] # 휠 파일 이름.jpg\n",
    "    category_num = num_jpg.split('.')[0] # jpg 떼어 버리기!\n",
    "    try:\n",
    "        category_num = int(category_num) # (i)번 째 안되어 있으면 바로 정수형으로 바꿔잇!\n",
    "    except:\n",
    "        if \"(\" in category_num: # (i)번째 표시되어있으면 날리고 앞에 카테고리만 저장\n",
    "            category_num = int(category_num.split(\"(\")[0])\n",
    "        elif \"-\" in category_num: # - i 로 표시한 사람것도 날리고 앞에 카테고리만 저장\n",
    "            category_num = int(category_num.split('-')[0])\n",
    "    category_nums.append(category_num)"
   ]
  },
  {
   "cell_type": "markdown",
   "metadata": {
    "colab_type": "text",
    "id": "5Ux2t2mqSAI2"
   },
   "source": [
    "Keras의 ImageDataGenerator를 통해 Data Augmentation을 할 수 있는 generator생성."
   ]
  },
  {
   "cell_type": "code",
   "execution_count": 2,
   "metadata": {
    "colab": {},
    "colab_type": "code",
    "id": "qxGJA1qa1fQx"
   },
   "outputs": [
    {
     "name": "stderr",
     "output_type": "stream",
     "text": [
      "Using TensorFlow backend.\n"
     ]
    },
    {
     "ename": "TypeError",
     "evalue": "__init__() got an unexpected keyword argument 'shuffle'",
     "output_type": "error",
     "traceback": [
      "\u001b[1;31m---------------------------------------------------------------------------\u001b[0m",
      "\u001b[1;31mTypeError\u001b[0m                                 Traceback (most recent call last)",
      "\u001b[1;32m<ipython-input-2-e6ff75e16f5a>\u001b[0m in \u001b[0;36m<module>\u001b[1;34m\u001b[0m\n\u001b[0;32m     11\u001b[0m         \u001b[0mhorizontal_flip\u001b[0m \u001b[1;33m=\u001b[0m \u001b[1;32mTrue\u001b[0m\u001b[1;33m,\u001b[0m\u001b[1;33m\u001b[0m\u001b[1;33m\u001b[0m\u001b[0m\n\u001b[0;32m     12\u001b[0m         \u001b[0mfill_mode\u001b[0m\u001b[1;33m=\u001b[0m \u001b[1;34m'nearest'\u001b[0m\u001b[1;33m,\u001b[0m\u001b[1;33m\u001b[0m\u001b[1;33m\u001b[0m\u001b[0m\n\u001b[1;32m---> 13\u001b[1;33m         shuffle = False)\n\u001b[0m",
      "\u001b[1;31mTypeError\u001b[0m: __init__() got an unexpected keyword argument 'shuffle'"
     ]
    }
   ],
   "source": [
    "## data augmentation\n",
    "from keras.preprocessing.image import ImageDataGenerator, array_to_img, img_to_array, load_img\n",
    "\n",
    "##ImageDataGenerator에 원하는 옵션들을 추가해주면 옵션들 적용하면서 랜덤하게 생성해줍니다.\n",
    "datagen = ImageDataGenerator(\n",
    "        rotation_range = 90,\n",
    "        width_shift_range = 0.2,\n",
    "        height_shift_range = 0.2,\n",
    "        brightness_range = [0.2, 1.0],\n",
    "        vertical_flip = True,\n",
    "        horizontal_flip = True,\n",
    "        fill_mode= 'nearest')"
   ]
  },
  {
   "cell_type": "markdown",
   "metadata": {
    "colab_type": "text",
    "id": "2Dt2HwB_SHFn"
   },
   "source": [
    "각 카테고리 번호 별로 몇 개씩 들어있는 지 카운팅한 뒤, 카테고리(key):등장횟수(value) 형태로 딕셔너리 생성"
   ]
  },
  {
   "cell_type": "code",
   "execution_count": 24,
   "metadata": {
    "colab": {},
    "colab_type": "code",
    "id": "R8TDl9w2_GXI"
   },
   "outputs": [],
   "source": [
    "category_count_dict = {}\n",
    "for i in range(len(category_nums)):\n",
    "    num_count = category_nums.count(i)\n",
    "    category_count_dict[i] = num_count"
   ]
  },
  {
   "cell_type": "markdown",
   "metadata": {
    "colab_type": "text",
    "id": "C8v-ISjqSZv1"
   },
   "source": [
    "배정받은 이미지 경로들을 통해 이미지를 가져오고,\n",
    "하나의 카테고리를 하나의 폴더로 만듦. 위에서도 이야기했듯이 파일 번호 = 카테고리이므로 이미 카테고리 폴더가 생성되어있는 경우는 넘어가게 햇음."
   ]
  },
  {
   "cell_type": "code",
   "execution_count": 88,
   "metadata": {},
   "outputs": [],
   "source": [
    "def count_category(img_path, category_count_dict):\n",
    "    num_jpg = img_path.split(\"/\")[-1] # 휠 파일 이름\n",
    "    category_num = num_jpg.split('.')[0] # .jpg 떼어 버리기!\n",
    "    img_name = category_num\n",
    "    try:\n",
    "        category_num = int(category_num) # (i)번 째 안되어 있으면 바로 정수형으로 바꿔잇!\n",
    "    except:\n",
    "        if \"(\" in category_num: # (i)번째 표시되어있으면 날리고 앞에 카테고리만 저장\n",
    "            category_num = int(category_num.split(\"(\")[0])\n",
    "        elif \"-\" in category_num: # - i 로 표시한 사람것도 날리고 앞에 카테고리만 저장\n",
    "            category_num = int(category_num.split('-')[0])\n",
    "    category_count = category_count_dict[category_num] # 해당 이미지의 카테고리에 몇개의 이미지가 있는가\n",
    "    return category_count\n",
    "\n",
    "def preprocess(img_path,\n",
    "               #category_count,\n",
    "               # augmentation_num,\n",
    "               function)\n",
    "               # folder_name):\n",
    "    \n",
    "    img = function(img_path)\n",
    "    x = expand_dims(img,0)\n",
    "    return x\n",
    "'''\n",
    "    folder_path = \"C:/Users/seohyeonpark/프로젝트/data_augmentation_\" + str(folder_name) + \"/\" +str(category_num) # folder_path는 자기가 저장할 경로에 맞게 수정해주어야 함. str(category)는 건들지 말고 앞부분만 수정.\n",
    "\n",
    "    if not(os.path.isdir(folder_path)):\n",
    "        os.makedirs(folder_path)\n",
    "\n",
    "    img_num = int(augmentation_num/category_count)  # 총 10000장을 Augmentation할 건데, 카테고리 카운트가 1보다 큰 이미지는, my_img_pathes안에 같은 카테고리에 속하는 이미지가 또 있다는 의미.\n",
    "                                       # 만약 1번카테고리에 해당하는 이미지가 2장이 있다면, 각각 5000장씩 Augmentation해서 총 10000장을 맞춰주기 위해 categroy_count로 나누어줌.\n",
    "\n",
    "    if augmentation_num%category_count != 0: # 여기서 print의 결과로 나오는 이미지들은 10000의 약수가 아니므로, augmentation한 결과가 정확히 10000장이 되지 못함. 해당 카테고리에서는 수동으로 이미지 복붙해서 10000장 맞춰주세요.\n",
    "        print(category_num)\n",
    "\n",
    "    i=0 # x가 들어가는 이미지 형태\n",
    "    for batch in datagen.flow(x, batch_size=32, save_to_dir=folder_path, save_prefix=img_name, save_format=\"jpeg\"):\n",
    "        i+=1\n",
    "        if i > img_num:\n",
    "            break'''"
   ]
  },
  {
   "cell_type": "code",
   "execution_count": 90,
   "metadata": {
    "colab": {
     "base_uri": "https://localhost:8080/",
     "height": 478
    },
    "colab_type": "code",
    "id": "gz_D3luq9Pyr",
    "outputId": "88cdd47b-d578-4b8c-84d5-2e03f5807633"
   },
   "outputs": [
    {
     "name": "stdout",
     "output_type": "stream",
     "text": [
      "126\n",
      "126\n",
      "126\n",
      "126\n",
      "126\n",
      "126\n",
      "126\n",
      "126\n",
      "126\n",
      "126\n",
      "126\n",
      "126\n",
      "126\n",
      "126\n",
      "126\n"
     ]
    },
    {
     "ename": "KeyboardInterrupt",
     "evalue": "",
     "output_type": "error",
     "traceback": [
      "\u001b[1;31m---------------------------------------------------------------------------\u001b[0m",
      "\u001b[1;31mKeyboardInterrupt\u001b[0m                         Traceback (most recent call last)",
      "\u001b[1;32m<ipython-input-90-c4743dfe03d6>\u001b[0m in \u001b[0;36m<module>\u001b[1;34m\u001b[0m\n\u001b[0;32m     28\u001b[0m                \u001b[0mcategory_count\u001b[0m\u001b[1;33m,\u001b[0m\u001b[1;33m\u001b[0m\u001b[1;33m\u001b[0m\u001b[0m\n\u001b[0;32m     29\u001b[0m                \u001b[1;36m100\u001b[0m\u001b[1;33m,\u001b[0m\u001b[1;33m\u001b[0m\u001b[1;33m\u001b[0m\u001b[0m\n\u001b[1;32m---> 30\u001b[1;33m                morph_threshold_sole)\n\u001b[0m\u001b[0;32m     31\u001b[0m \u001b[1;33m\u001b[0m\u001b[0m\n\u001b[0;32m     32\u001b[0m \u001b[1;33m\u001b[0m\u001b[0m\n",
      "\u001b[1;32m<ipython-input-88-b2a6e7c5aaea>\u001b[0m in \u001b[0;36mpreprocess\u001b[1;34m(img_path, category_count, augmentation_num, function)\u001b[0m\n\u001b[0;32m     33\u001b[0m \u001b[1;33m\u001b[0m\u001b[0m\n\u001b[0;32m     34\u001b[0m     \u001b[0mi\u001b[0m\u001b[1;33m=\u001b[0m\u001b[1;36m0\u001b[0m \u001b[1;31m# x가 들어가는 이미지 형태\u001b[0m\u001b[1;33m\u001b[0m\u001b[1;33m\u001b[0m\u001b[0m\n\u001b[1;32m---> 35\u001b[1;33m     \u001b[1;32mfor\u001b[0m \u001b[0mbatch\u001b[0m \u001b[1;32min\u001b[0m \u001b[0mdatagen\u001b[0m\u001b[1;33m.\u001b[0m\u001b[0mflow\u001b[0m\u001b[1;33m(\u001b[0m\u001b[0mx\u001b[0m\u001b[1;33m,\u001b[0m \u001b[0mbatch_size\u001b[0m\u001b[1;33m=\u001b[0m\u001b[1;36m32\u001b[0m\u001b[1;33m,\u001b[0m \u001b[0msave_to_dir\u001b[0m\u001b[1;33m=\u001b[0m\u001b[0mfolder_path\u001b[0m\u001b[1;33m,\u001b[0m \u001b[0msave_prefix\u001b[0m\u001b[1;33m=\u001b[0m\u001b[0mimg_name\u001b[0m\u001b[1;33m,\u001b[0m \u001b[0msave_format\u001b[0m\u001b[1;33m=\u001b[0m\u001b[1;34m\"jpeg\"\u001b[0m\u001b[1;33m)\u001b[0m\u001b[1;33m:\u001b[0m\u001b[1;33m\u001b[0m\u001b[1;33m\u001b[0m\u001b[0m\n\u001b[0m\u001b[0;32m     36\u001b[0m         \u001b[0mi\u001b[0m\u001b[1;33m+=\u001b[0m\u001b[1;36m1\u001b[0m\u001b[1;33m\u001b[0m\u001b[1;33m\u001b[0m\u001b[0m\n\u001b[0;32m     37\u001b[0m         \u001b[1;32mif\u001b[0m \u001b[0mi\u001b[0m \u001b[1;33m>\u001b[0m \u001b[0mimg_num\u001b[0m\u001b[1;33m:\u001b[0m\u001b[1;33m\u001b[0m\u001b[1;33m\u001b[0m\u001b[0m\n",
      "\u001b[1;32m~\\Anaconda3\\lib\\site-packages\\keras_preprocessing\\image\\iterator.py\u001b[0m in \u001b[0;36m__next__\u001b[1;34m(self, *args, **kwargs)\u001b[0m\n\u001b[0;32m    102\u001b[0m \u001b[1;33m\u001b[0m\u001b[0m\n\u001b[0;32m    103\u001b[0m     \u001b[1;32mdef\u001b[0m \u001b[0m__next__\u001b[0m\u001b[1;33m(\u001b[0m\u001b[0mself\u001b[0m\u001b[1;33m,\u001b[0m \u001b[1;33m*\u001b[0m\u001b[0margs\u001b[0m\u001b[1;33m,\u001b[0m \u001b[1;33m**\u001b[0m\u001b[0mkwargs\u001b[0m\u001b[1;33m)\u001b[0m\u001b[1;33m:\u001b[0m\u001b[1;33m\u001b[0m\u001b[1;33m\u001b[0m\u001b[0m\n\u001b[1;32m--> 104\u001b[1;33m         \u001b[1;32mreturn\u001b[0m \u001b[0mself\u001b[0m\u001b[1;33m.\u001b[0m\u001b[0mnext\u001b[0m\u001b[1;33m(\u001b[0m\u001b[1;33m*\u001b[0m\u001b[0margs\u001b[0m\u001b[1;33m,\u001b[0m \u001b[1;33m**\u001b[0m\u001b[0mkwargs\u001b[0m\u001b[1;33m)\u001b[0m\u001b[1;33m\u001b[0m\u001b[1;33m\u001b[0m\u001b[0m\n\u001b[0m\u001b[0;32m    105\u001b[0m \u001b[1;33m\u001b[0m\u001b[0m\n\u001b[0;32m    106\u001b[0m     \u001b[1;32mdef\u001b[0m \u001b[0mnext\u001b[0m\u001b[1;33m(\u001b[0m\u001b[0mself\u001b[0m\u001b[1;33m)\u001b[0m\u001b[1;33m:\u001b[0m\u001b[1;33m\u001b[0m\u001b[1;33m\u001b[0m\u001b[0m\n",
      "\u001b[1;32m~\\Anaconda3\\lib\\site-packages\\keras_preprocessing\\image\\iterator.py\u001b[0m in \u001b[0;36mnext\u001b[1;34m(self)\u001b[0m\n\u001b[0;32m    114\u001b[0m         \u001b[1;31m# The transformation of images is not under thread lock\u001b[0m\u001b[1;33m\u001b[0m\u001b[1;33m\u001b[0m\u001b[1;33m\u001b[0m\u001b[0m\n\u001b[0;32m    115\u001b[0m         \u001b[1;31m# so it can be done in parallel\u001b[0m\u001b[1;33m\u001b[0m\u001b[1;33m\u001b[0m\u001b[1;33m\u001b[0m\u001b[0m\n\u001b[1;32m--> 116\u001b[1;33m         \u001b[1;32mreturn\u001b[0m \u001b[0mself\u001b[0m\u001b[1;33m.\u001b[0m\u001b[0m_get_batches_of_transformed_samples\u001b[0m\u001b[1;33m(\u001b[0m\u001b[0mindex_array\u001b[0m\u001b[1;33m)\u001b[0m\u001b[1;33m\u001b[0m\u001b[1;33m\u001b[0m\u001b[0m\n\u001b[0m\u001b[0;32m    117\u001b[0m \u001b[1;33m\u001b[0m\u001b[0m\n\u001b[0;32m    118\u001b[0m     \u001b[1;32mdef\u001b[0m \u001b[0m_get_batches_of_transformed_samples\u001b[0m\u001b[1;33m(\u001b[0m\u001b[0mself\u001b[0m\u001b[1;33m,\u001b[0m \u001b[0mindex_array\u001b[0m\u001b[1;33m)\u001b[0m\u001b[1;33m:\u001b[0m\u001b[1;33m\u001b[0m\u001b[1;33m\u001b[0m\u001b[0m\n",
      "\u001b[1;32m~\\Anaconda3\\lib\\site-packages\\keras_preprocessing\\image\\numpy_array_iterator.py\u001b[0m in \u001b[0;36m_get_batches_of_transformed_samples\u001b[1;34m(self, index_array)\u001b[0m\n\u001b[0;32m    151\u001b[0m             \u001b[0mparams\u001b[0m \u001b[1;33m=\u001b[0m \u001b[0mself\u001b[0m\u001b[1;33m.\u001b[0m\u001b[0mimage_data_generator\u001b[0m\u001b[1;33m.\u001b[0m\u001b[0mget_random_transform\u001b[0m\u001b[1;33m(\u001b[0m\u001b[0mx\u001b[0m\u001b[1;33m.\u001b[0m\u001b[0mshape\u001b[0m\u001b[1;33m)\u001b[0m\u001b[1;33m\u001b[0m\u001b[1;33m\u001b[0m\u001b[0m\n\u001b[0;32m    152\u001b[0m             x = self.image_data_generator.apply_transform(\n\u001b[1;32m--> 153\u001b[1;33m                 x.astype(self.dtype), params)\n\u001b[0m\u001b[0;32m    154\u001b[0m             \u001b[0mx\u001b[0m \u001b[1;33m=\u001b[0m \u001b[0mself\u001b[0m\u001b[1;33m.\u001b[0m\u001b[0mimage_data_generator\u001b[0m\u001b[1;33m.\u001b[0m\u001b[0mstandardize\u001b[0m\u001b[1;33m(\u001b[0m\u001b[0mx\u001b[0m\u001b[1;33m)\u001b[0m\u001b[1;33m\u001b[0m\u001b[1;33m\u001b[0m\u001b[0m\n\u001b[0;32m    155\u001b[0m             \u001b[0mbatch_x\u001b[0m\u001b[1;33m[\u001b[0m\u001b[0mi\u001b[0m\u001b[1;33m]\u001b[0m \u001b[1;33m=\u001b[0m \u001b[0mx\u001b[0m\u001b[1;33m\u001b[0m\u001b[1;33m\u001b[0m\u001b[0m\n",
      "\u001b[1;31mKeyboardInterrupt\u001b[0m: "
     ]
    }
   ],
   "source": [
    "''' 전처리 함수\n",
    "1. original : 원본 이미지\n",
    "2. threshold : Adaptive만 적용\n",
    "3. morphology : morph gradient만 적용\n",
    "4. threshold_sole : 이미지 대비 향상 -> Adaptive\n",
    "5. morph_threshold : morph gradient -> Adaptive \n",
    "6. morph_threshold_sole : 이미지 대비 향상 morph gradient -> adaptive threshold \n",
    "'''\n",
    "\n",
    "# 전처리 함수 자기 파트 # 빼고 진행하기\n",
    "#function = original # 선민\n",
    "#function = threshold # 세웅\n",
    "#function = threshold_sole # 예림\n",
    "#function = morph_threshold # 솔\n",
    "function = morph_threshold_sole # 서현\n",
    "\n",
    "for img_path in my_img_pathes:\n",
    "\n",
    "    ''' category별 개수 구하기 '''\n",
    "    img_name, category_count, category_num = count_category(img_path, category_count_dict)\n",
    "\n",
    "    ''' 전처리 '''\n",
    "\n",
    "    x = preprocess(img_path, function)\n",
    "\n",
    "    ''' Augment & Save '''\n",
    "\n",
    "    # augmentation 개수\n",
    "    img_num = 1800 # 1680 : 210의 배수로 해줘야 각 폴더에 들어가는 이미지 수가 최대한 비슷해짐\n",
    "    aug_num = int(img_num/category_count)\n",
    "    print(category_num, '_category count : ', category_count)\n",
    "    print(category_num, '_aug_num : ', aug_num)\n",
    "\n",
    "    # if img_num%category_count != 0: # 여기서 print의 결과로 나오는 이미지들은 10000의 약수가 아니므로, augmentation한 결과가 정확히 10000장이 되지 못함. 해당 카테고리에서는 수동으로 이미지 복붙해서 10000장 맞춰주세요.\n",
    "    #    print(category_num)\n",
    "\n",
    "\n",
    "    # 아래 폴더 이름은 \"C:/Users/seohyeonpark/프로젝트\" 부분만 원하는 경로로 바꿔주세요. \n",
    "    folder_path = \"C:/Users/seohyeonpark/프로젝트/Data Augmentation2\" + \"/\" + str(category_num) # folder_path는 자기가 저장할 경로에 맞게 수정해주어야 함. str(category)는 건들지 말고 앞부분만 수정.\n",
    "    if not(os.path.isdir(folder_path)):\n",
    "        os.makedirs(folder_path)\n",
    "    j=0\n",
    "    for batch in datagen.flow(x,\n",
    "                              batch_size=1,\n",
    "                              save_to_dir=folder_path,\n",
    "                              save_prefix=category_num,\n",
    "                              save_format=\"jpeg\"):\n",
    "        j+=1\n",
    "        if j > aug_num:\n",
    "            break"
   ]
  },
  {
   "cell_type": "code",
   "execution_count": null,
   "metadata": {},
   "outputs": [],
   "source": [
    "category_num = []\n",
    "for i in category_nums:\n",
    "    if i not in category_num:\n",
    "        category_num.append(i)"
   ]
  },
  {
   "cell_type": "code",
   "execution_count": null,
   "metadata": {},
   "outputs": [],
   "source": [
    "# 각 카테고리 당 1500개의 이미지남 남기고 나머지는 랜덤으로 삭제\n",
    "import random\n",
    "for i in category_num:\n",
    "    ith_images = glob.glob(\"C:/Users/seohyeonpark/프로젝트/Data Augmentation2\" + \"/\" + str(i) + \"/*.jpeg\")\n",
    "    remove_images_pathes = random.sample(ith_images, len(ith_images) - 1500)\n",
    "    for path in remove_images_pathes:\n",
    "        os.remove(path)"
   ]
  },
  {
   "cell_type": "code",
   "execution_count": null,
   "metadata": {},
   "outputs": [],
   "source": [
    "# 카테고리 수 적어져서 카테고리당 validation data 개수를 111개로 늘림\n",
    "import random\n",
    "for category in category_num:\n",
    "    # 해당 category 폴더에서 무작위로 선택된 15개의 이미지 경로를 저장 (경로 지정해줘야 함)\n",
    "    folder_path = \"C:/Users/seohyeonpark/프로젝트/Data Augmentation2\" + \"/\" + str(category)\n",
    "    \n",
    "    all_images_pathes = glob.glob(folder_path+\"/*.jpeg\")\n",
    "    \n",
    "    # 아래 부분은 위의 my_image_pathes와 같이 주소가 정상적으로 안 불러져 왔을 경우에만 실행\n",
    "    i = 0\n",
    "    for path in all_images_pathes:\n",
    "        path = path.replace('\\\\','/')\n",
    "        all_images_pathes[i] = path\n",
    "        i += 1\n",
    "    \n",
    "    selected_images_pathes = random.sample(all_images_pathes, 111)\n",
    "    \n",
    "    # 이동할 폴더 생성(경로 지정해줘야 함)\n",
    "    to_images_pathes = \"C:/Users/seohyeonpark/프로젝트/augmented_validation2\" + \"/\" + str(category)\n",
    "    os.makedirs(to_images_pathes)\n",
    "    \n",
    "    for selected_image_path in selected_images_pathes:\n",
    "        file_name = selected_image_path.split('/')[-1]\n",
    "        from_image_path = folder_path + \"/\" + file_name\n",
    "        shutil.move(from_image_path, to_images_pathes)"
   ]
  },
  {
   "cell_type": "code",
   "execution_count": null,
   "metadata": {},
   "outputs": [],
   "source": [
    "for i in range(len(my_img_pathes)):\n",
    "    from_image_path = my_img_pathes[i]\n",
    "    file_name = my_img_pathes[i].split('/')[-1]\n",
    "    category_num = file_name.split('.')[0]\n",
    "    \n",
    "    \n",
    "    try:\n",
    "        category_num = int(category_num) # (i)번 째 안되어 있으면 바로 정수형으로 바꿔잇!\n",
    "    except:\n",
    "        if \"(\" in category_num: # (i)번째 표시되어있으면 날리고 앞에 카테고리만 저장\n",
    "            category_num = int(category_num.split(\"(\")[0])\n",
    "        elif \"-\" in category_num: # - i 로 표시한 사람것도 날리고 앞에 카테고리만 저장\n",
    "            category_num = int(category_num.split('-')[0])\n",
    "    \n",
    "    to_images_pathes = \"C:/Users/seohyeonpark/프로젝트/original_validation2\" + \"/\" + str(category_num)\n",
    "    if not(os.path.isdir(to_images_pathes)):\n",
    "        os.makedirs(to_images_pathes)\n",
    "    shutil.copy(from_image_path, to_images_pathes + \"/\" + file_name)"
   ]
  }
 ],
 "metadata": {
  "colab": {
   "collapsed_sections": [],
   "name": "Data_augmentation.ipynb",
   "provenance": []
  },
  "kernelspec": {
   "display_name": "Python 3",
   "language": "python",
   "name": "python3"
  },
  "language_info": {
   "codemirror_mode": {
    "name": "ipython",
    "version": 3
   },
   "file_extension": ".py",
   "mimetype": "text/x-python",
   "name": "python",
   "nbconvert_exporter": "python",
   "pygments_lexer": "ipython3",
   "version": "3.7.7"
  }
 },
 "nbformat": 4,
 "nbformat_minor": 1
}
