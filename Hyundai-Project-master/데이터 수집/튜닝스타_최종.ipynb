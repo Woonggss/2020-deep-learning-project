{
 "cells": [
  {
   "cell_type": "code",
   "execution_count": 1,
   "source": [
    "\"\"\"\r\n",
    "■ 크롤링 모듈 호출\r\n",
    "\"\"\"\r\n",
    "from bs4 import BeautifulSoup as bs\r\n",
    "import requests\r\n",
    "import urllib.request"
   ],
   "outputs": [],
   "metadata": {
    "ExecuteTime": {
     "end_time": "2020-05-29T09:49:11.428033Z",
     "start_time": "2020-05-29T09:49:10.672094Z"
    }
   }
  },
  {
   "cell_type": "code",
   "execution_count": 2,
   "source": [
    "\"\"\"\r\n",
    "# pages : 전체 인치별 페이지 할당 숫자\r\n",
    "# inches : 인치별 텍스트\r\n",
    "# 일단 3개 정도 test\r\n",
    "\"\"\"\r\n",
    "#pages = [27000000, 25000000, 18000000, 19000000, 20000000, 21000000, 22000000, 23000000, 24000000, 26000000]\r\n",
    "#inches = ['14인치 이하', '15인치', '16인치', '17인치', '18인치', '19인치', '20인치', '21인치', '22인치', '23인치 이상']\r\n",
    "pages = [22000000, 23000000, 24000000, 26000000]\r\n",
    "inches = ['20인치', '21인치', '22인치', '23인치 이상']"
   ],
   "outputs": [],
   "metadata": {
    "ExecuteTime": {
     "end_time": "2020-05-29T09:49:15.758180Z",
     "start_time": "2020-05-29T09:49:15.745216Z"
    }
   }
  },
  {
   "cell_type": "code",
   "execution_count": 3,
   "source": [
    "n = 0"
   ],
   "outputs": [],
   "metadata": {
    "ExecuteTime": {
     "end_time": "2020-05-29T09:49:17.635163Z",
     "start_time": "2020-05-29T09:49:17.627223Z"
    }
   }
  },
  {
   "cell_type": "code",
   "execution_count": null,
   "source": [
    "for page in pages:\r\n",
    "    url = requests.get('http://tuningstar.co.kr/mall/m_mall_list.php?ps_ctid=%s' %page)\r\n",
    "    html = bs(url.text, 'html.parser')\r\n",
    "    base_url = 'http://tuningstar.co.kr/mall/'\r\n",
    "    \r\n",
    "    try: \r\n",
    "        page_num = html.findAll('td', {'class' : 'text01'})\r\n",
    "        if page_num[0].text == '1':\r\n",
    "            for i in range(len(page_num)):\r\n",
    "                i = i + 1 # url 부분 뒤에 ps_page=1, 2, 3 ,, 인 값이 들어가야함. for문 조건 i는 0부터 시작함.\r\n",
    "                url = requests.get('http://tuningstar.co.kr/mall/m_mall_list.php?ps_ctid=%s&ps_page=%s' % (page, i))\r\n",
    "                html = bs(url.text, 'html.parser')\r\n",
    "\r\n",
    "                parent = html.findAll('table', {'class' : 'goods_table'})\r\n",
    "                count = 0\r\n",
    "\r\n",
    "                for a in range(len(parent)):\r\n",
    "                    img = parent[a].find('img') # 이미지 태그\r\n",
    "                    img_src = img.get('src') # 이미지 경로 속성 추출\r\n",
    "                    img_url = base_url + img_src #이미지 추출 경로\r\n",
    "                    print(img_url)\r\n",
    "                    img_name = inches[n] + (\"%s\" %count) + (\" %d\" % i) #이미지 저장 시 파일 이름\r\n",
    "\r\n",
    "                    # \"./wheel/\" : 이미지 받을 경로(폴더 이름) *각자 수정 폴더는 해당 IPYNB 파일 있는 곳에 이러한 형태(\"./OOO/\")로 폴더 만들면됨.        \r\n",
    "                    urllib.request.urlretrieve(img_url, \"./wheel_test/\" + img_name + '.jpg')\r\n",
    "                    count += 1 \r\n",
    "                \r\n",
    "            n += 1 # 다음페이지 넘어가면 inches 리스트(휠 인치에 따라 이미지 저장 시 파일 이름 동시 업데이트)\r\n",
    "        else:\r\n",
    "            print(\"에러. 다시 하자.\")\r\n",
    "    except:\r\n",
    "        parent = html.findAll('table', {'class' : 'goods_table'})\r\n",
    "        count = 0\r\n",
    "    \r\n",
    "        for a in range(len(parent)):\r\n",
    "            img = parent[a].find('img') # 이미지 태그\r\n",
    "            img_src = img.get('src') # 이미지 경로 속성 추출\r\n",
    "            img_url = base_url + img_src #이미지 추출 경로\r\n",
    "            img_name = inches[n] + (\"%s\" %count) #이미지 저장 시 파일 이름\r\n",
    "\r\n",
    "            # \"./wheel/\" : 이미지 받을 경로(폴더 이름) *각자 수정 폴더는 해당 IPYNB 파일 있는 곳에 이러한 형태(\"./OOO/\")로 폴더 만들면됨.        \r\n",
    "            urllib.request.urlretrieve(img_url, \"./wheel_test/\" + img_name + '.jpg')\r\n",
    "            count += 1 \r\n",
    "\r\n",
    "        n += 1 # 다음페이지 넘어가면 inches 리스트(휠 인치에 따라 이미지 저장 시 파일 이름 동시 업데이트)"
   ],
   "outputs": [],
   "metadata": {
    "ExecuteTime": {
     "end_time": "2020-05-29T09:49:46.361998Z",
     "start_time": "2020-05-29T09:49:37.727158Z"
    }
   }
  },
  {
   "cell_type": "code",
   "execution_count": null,
   "source": [],
   "outputs": [],
   "metadata": {}
  }
 ],
 "metadata": {
  "kernelspec": {
   "display_name": "Python 3",
   "language": "python",
   "name": "python3"
  },
  "language_info": {
   "codemirror_mode": {
    "name": "ipython",
    "version": 3
   },
   "file_extension": ".py",
   "mimetype": "text/x-python",
   "name": "python",
   "nbconvert_exporter": "python",
   "pygments_lexer": "ipython3",
   "version": "3.7.1"
  },
  "toc": {
   "base_numbering": 1,
   "nav_menu": {},
   "number_sections": true,
   "sideBar": true,
   "skip_h1_title": false,
   "title_cell": "Table of Contents",
   "title_sidebar": "Contents",
   "toc_cell": false,
   "toc_position": {},
   "toc_section_display": true,
   "toc_window_display": false
  }
 },
 "nbformat": 4,
 "nbformat_minor": 4
}