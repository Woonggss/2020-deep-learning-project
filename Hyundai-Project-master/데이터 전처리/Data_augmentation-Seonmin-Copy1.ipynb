{
 "cells": [
  {
   "cell_type": "code",
   "execution_count": 62,
   "source": [
    "import glob\r\n",
    "from PIL import Image\r\n",
    "from numpy import expand_dims\r\n",
    "import os\r\n",
    "import cv2\r\n",
    "import numpy as np\r\n",
    "import matplotlib.pyplot as plt\r\n",
    "import shutil"
   ],
   "outputs": [],
   "metadata": {
    "colab": {},
    "colab_type": "code",
    "id": "GlYQGKif1T4h"
   }
  },
  {
   "cell_type": "markdown",
   "source": [
    "세웅이 모델에 들어가는 이미지 형태는 최종 BGR이여야 함!"
   ],
   "metadata": {}
  },
  {
   "cell_type": "code",
   "execution_count": 77,
   "source": [
    "def original(imgpath):\r\n",
    "    img = load_img(img_path)\r\n",
    "    img_array = img_to_array(img)\r\n",
    "    return img_array"
   ],
   "outputs": [],
   "metadata": {}
  },
  {
   "cell_type": "code",
   "execution_count": 55,
   "source": [
    "# adaptive threshold\r\n",
    "def threshold(imgpath):\r\n",
    "    # img = cv2.imread(imgpath)\r\n",
    "    img = load_img(imgpath)\r\n",
    "    img = img_to_array(img)\r\n",
    "    gray_image = cv2.cvtColor(img,cv2.COLOR_BGR2GRAY) #(a,b) -> 2차원으로 변환\r\n",
    "    gray_image = image_grey.astype('uint8')\r\n",
    "    th = cv2.adaptiveThreshold(gray_image,255,cv2.ADAPTIVE_THRESH_GAUSSIAN_C, cv2.THRESH_BINARY,99,15)\r\n",
    "    bgr_image = cv2.cvtColor(th,cv2.COLOR_GRAY2BGR)\r\n",
    "    return bgr_image"
   ],
   "outputs": [],
   "metadata": {}
  },
  {
   "cell_type": "code",
   "execution_count": 56,
   "source": [
    "# morph gradient\r\n",
    "def morphology(imgpath):\r\n",
    "    # img = cv2.imread(imgpath)\r\n",
    "    img = load_img(imgpath)\r\n",
    "    img = img_to_array(img)\r\n",
    "    gray_image = cv2.cvtColor(img,cv2.COLOR_BGR2GRAY) #(a,b) -> 2차원으로 변환\r\n",
    "    gray_image = image_grey.astype('uint8')\r\n",
    "    kernel = np.ones((3,3), np.uint8)\r\n",
    "    img_grad = cv2.morphologyEx(gray_image, cv2.MORPH_GRADIENT, kernel)\r\n",
    "    bgr_image = cv2.cvtColor(img_grad,cv2.COLOR_GRAY2BGR)\r\n",
    "    return bgr_image"
   ],
   "outputs": [],
   "metadata": {}
  },
  {
   "cell_type": "code",
   "execution_count": 57,
   "source": [
    "# 솔st 이진화\r\n",
    "def threshold_sole(imgpath):\r\n",
    "    #grayscale\r\n",
    "    # img = cv2.imread(imgpath)\r\n",
    "    img = load_img(imgpath)\r\n",
    "    img = img_to_array(img)\r\n",
    "    gray_image = cv2.cvtColor(img,cv2.COLOR_BGR2GRAY) #(a,b) -> 2차원으로 변환\r\n",
    "    gray_image = image_grey.astype('uint8')\r\n",
    "    \r\n",
    "    # 이미지 대비를 향상\r\n",
    "    image_enhanced = cv2.equalizeHist(gray_image)\r\n",
    "    # Adaptive Thresholding 적용 \r\n",
    "    max_output_value = 255   # 출력 픽셀 강도의 최대값\r\n",
    "    neighborhood_size = 15\r\n",
    "    subtract_from_mean = 2\r\n",
    "    image_binarized = cv2.adaptiveThreshold(image_enhanced,\r\n",
    "                                          max_output_value,\r\n",
    "                                          cv2.ADAPTIVE_THRESH_GAUSSIAN_C,\r\n",
    "                                          cv2.THRESH_BINARY,\r\n",
    "                                          neighborhood_size,\r\n",
    "                                          subtract_from_mean)\r\n",
    "    bgr_image = cv2.cvtColor(image_binarized,cv2.COLOR_GRAY2BGR) # result함수 돌리기 위해 3차원으로 변환 \r\n",
    "    return bgr_image\r\n",
    "    \r\n",
    "    \r\n",
    "    #kernel = np.ones((11,11), np.uint8)\r\n",
    "    #image_closed = cv2.morphologyEx(image_binarized, cv2.MORPH_CLOSE, kernel)\r\n",
    "    #return image_closed\r\n",
    "\r\n",
    "    # plot\r\n",
    "    #plt.imshow(image_binarized, cmap='gray')\r\n",
    "    #plt.show()"
   ],
   "outputs": [],
   "metadata": {}
  },
  {
   "cell_type": "code",
   "execution_count": 58,
   "source": [
    "# morphology -> adaptive threshold\r\n",
    "def morph_threshold(imgpath):\r\n",
    "    kernel = np.ones((3,3), np.uint8)\r\n",
    "    # img = cv2.imread(imgpath)\r\n",
    "    img = load_img(imgpath)\r\n",
    "    img = img_to_array(img)\r\n",
    "    gray_image = cv2.cvtColor(img,cv2.COLOR_BGR2GRAY)\r\n",
    "    gray_image = image_grey.astype('uint8')\r\n",
    "    img2_grad = cv2.morphologyEx(gray_image, cv2.MORPH_GRADIENT, kernel)\r\n",
    "    th = cv2.adaptiveThreshold(img2_grad, 255, cv2.ADAPTIVE_THRESH_GAUSSIAN_C, cv2.THRESH_BINARY,15,2)\r\n",
    "    bgr_image = cv2.cvtColor(th,cv2.COLOR_GRAY2BGR) # result함수 돌리기 위해 3차원으로 변환 \r\n",
    "    return bgr_image"
   ],
   "outputs": [],
   "metadata": {}
  },
  {
   "cell_type": "code",
   "execution_count": 75,
   "source": [
    "# morph_gradient -> 솔st 이진화\r\n",
    "def morph_threshold_sole(imgpath):\r\n",
    "    #grayscale\r\n",
    "        # img = cv2.imread(imgpath)\r\n",
    "    img = load_img(imgpath)\r\n",
    "    img = img_to_array(img)\r\n",
    "    gray_image = cv2.cvtColor(img,cv2.COLOR_BGR2GRAY)\r\n",
    "    gray_image = image_grey.astype('uint8')\r\n",
    "    # 이미지 대비를 향상\r\n",
    "    image_enhanced = cv2.equalizeHist(gray_image)\r\n",
    "    \r\n",
    "    kernel = np.ones((3,3), np.uint8)\r\n",
    "    img2_grad = cv2.morphologyEx(image_enhanced, cv2.MORPH_GRADIENT, kernel)\r\n",
    "\r\n",
    "    # Adaptive Thresholding 적용 \r\n",
    "    max_output_value = 255   # 출력 픽셀 강도의 최대값\r\n",
    "    neighborhood_size = 15\r\n",
    "    subtract_from_mean = 2\r\n",
    "    image_binarized = cv2.adaptiveThreshold(img2_grad,\r\n",
    "                                          max_output_value,\r\n",
    "                                          cv2.ADAPTIVE_THRESH_GAUSSIAN_C,\r\n",
    "                                          cv2.THRESH_BINARY,\r\n",
    "                                          neighborhood_size,\r\n",
    "                                          subtract_from_mean)\r\n",
    "    bgr_image = cv2.cvtColor(image_binarized,cv2.COLOR_GRAY2BGR) # result함수 돌리기 위해 3차원으로 변환 \r\n",
    "\r\n",
    "    return bgr_image\r\n",
    "    \r\n",
    "    \r\n",
    "    #kernel = np.ones((11,11), np.uint8)\r\n",
    "    #image_closed = cv2.morphologyEx(image_binarized, cv2.MORPH_CLOSE, kernel)\r\n",
    "    #return image_closed\r\n",
    "\r\n",
    "    # plot\r\n",
    "    #plt.imshow(image_binarized, cmap='gray')\r\n",
    "    #plt.show()"
   ],
   "outputs": [],
   "metadata": {}
  },
  {
   "cell_type": "markdown",
   "source": [
    "이미지 경로들을 불러와, 파일 이름에 포함되어 있는 번호를 기준으로 자기가 배정받은 번호만 my_img_pathes에 저장.\n",
    "category_nums는 파일 이름에 포함된 번호들을 따로 모아놓는 리스트.(번호 = 카테고리 이므로 하나의 카테고리가 몇 장 들어있는 지 세기 위함)"
   ],
   "metadata": {
    "colab_type": "text",
    "id": "YlvR6d19RpD6"
   }
  },
  {
   "cell_type": "code",
   "execution_count": 19,
   "source": [
    "my_img_pathes = glob.glob(\"TuningStar2 이미지 저장 경로/*.jpg\") # 경로를 필요한 이미지들이 저장되어 있는 경로로 지정."
   ],
   "outputs": [],
   "metadata": {}
  },
  {
   "cell_type": "code",
   "execution_count": 20,
   "source": [
    "i = 0\r\n",
    "for path in img_pathes:\r\n",
    "    path = path.replace('\\\\','/')\r\n",
    "    img_pathes[i] = path\r\n",
    "    i += 1"
   ],
   "outputs": [],
   "metadata": {}
  },
  {
   "cell_type": "code",
   "execution_count": 21,
   "source": [
    "my_img_pathes[:5]"
   ],
   "outputs": [
    {
     "output_type": "execute_result",
     "data": {
      "text/plain": [
       "['C:/Users/seohyeonpark/프로젝트/TuningStar/0 (1).jpg',\n",
       " 'C:/Users/seohyeonpark/프로젝트/TuningStar/0 (2).jpg',\n",
       " 'C:/Users/seohyeonpark/프로젝트/TuningStar/0 (3).jpg',\n",
       " 'C:/Users/seohyeonpark/프로젝트/TuningStar/1 (1).jpg',\n",
       " 'C:/Users/seohyeonpark/프로젝트/TuningStar/1 (2).jpg']"
      ]
     },
     "metadata": {},
     "execution_count": 21
    }
   ],
   "metadata": {}
  },
  {
   "cell_type": "code",
   "execution_count": 22,
   "source": [
    "category_nums=[]\r\n",
    "for img_path in img_pathes:\r\n",
    "    num_jpg = img_path.split(\"/\")[-1] # 휠 파일 이름.jpg\r\n",
    "    category_num = num_jpg.split('.')[0] # jpg 떼어 버리기!\r\n",
    "    try:\r\n",
    "        category_num = int(category_num) # (i)번 째 안되어 있으면 바로 정수형으로 바꿔잇!\r\n",
    "    except:\r\n",
    "        if \"(\" in category_num: # (i)번째 표시되어있으면 날리고 앞에 카테고리만 저장\r\n",
    "            category_num = int(category_num.split(\"(\")[0])\r\n",
    "        elif \"-\" in category_num: # - i 로 표시한 사람것도 날리고 앞에 카테고리만 저장\r\n",
    "            category_num = int(category_num.split('-')[0])\r\n",
    "    category_nums.append(category_num)"
   ],
   "outputs": [],
   "metadata": {
    "colab": {},
    "colab_type": "code",
    "id": "4RrVCjcM6Oe2"
   }
  },
  {
   "cell_type": "markdown",
   "source": [
    "Keras의 ImageDataGenerator를 통해 Data Augmentation을 할 수 있는 generator생성."
   ],
   "metadata": {
    "colab_type": "text",
    "id": "5Ux2t2mqSAI2"
   }
  },
  {
   "cell_type": "code",
   "execution_count": null,
   "source": [
    "## data augmentation\r\n",
    "from keras.preprocessing.image import ImageDataGenerator, array_to_img, img_to_array, load_img\r\n",
    "\r\n",
    "##ImageDataGenerator에 원하는 옵션들을 추가해주면 옵션들 적용하면서 랜덤하게 생성해줍니다.\r\n",
    "datagen = ImageDataGenerator(\r\n",
    "        rotation_range = 90,\r\n",
    "        width_shift_range = 0.2,\r\n",
    "        height_shift_range = 0.2,\r\n",
    "        brightness_range = [0.2, 1.0],\r\n",
    "        vertical_flip = True,\r\n",
    "        horizontal_flip = True,\r\n",
    "        fill_mode= 'nearest')"
   ],
   "outputs": [],
   "metadata": {
    "colab": {},
    "colab_type": "code",
    "id": "qxGJA1qa1fQx"
   }
  },
  {
   "cell_type": "markdown",
   "source": [
    "각 카테고리 번호 별로 몇 개씩 들어있는 지 카운팅한 뒤, 카테고리(key):등장횟수(value) 형태로 딕셔너리 생성"
   ],
   "metadata": {
    "colab_type": "text",
    "id": "2Dt2HwB_SHFn"
   }
  },
  {
   "cell_type": "code",
   "execution_count": 24,
   "source": [
    "category_count_dict = {}\r\n",
    "for i in range(len(category_nums)):\r\n",
    "    num_count = category_nums.count(i)\r\n",
    "    category_count_dict[i] = num_count"
   ],
   "outputs": [],
   "metadata": {
    "colab": {},
    "colab_type": "code",
    "id": "R8TDl9w2_GXI"
   }
  },
  {
   "cell_type": "markdown",
   "source": [
    "배정받은 이미지 경로들을 통해 이미지를 가져오고,\n",
    "하나의 카테고리를 하나의 폴더로 만듦. 위에서도 이야기했듯이 파일 번호 = 카테고리이므로 이미 카테고리 폴더가 생성되어있는 경우는 넘어가게 햇음."
   ],
   "metadata": {
    "colab_type": "text",
    "id": "C8v-ISjqSZv1"
   }
  },
  {
   "cell_type": "code",
   "execution_count": 88,
   "source": [
    "def count_category(img_path, category_count_dict):\r\n",
    "    num_jpg = img_path.split(\"/\")[-1] # 휠 파일 이름\r\n",
    "    category_num = num_jpg.split('.')[0] # .jpg 떼어 버리기!\r\n",
    "    img_name = category_num\r\n",
    "    try:\r\n",
    "        category_num = int(category_num) # (i)번 째 안되어 있으면 바로 정수형으로 바꿔잇!\r\n",
    "    except:\r\n",
    "        if \"(\" in category_num: # (i)번째 표시되어있으면 날리고 앞에 카테고리만 저장\r\n",
    "            category_num = int(category_num.split(\"(\")[0])\r\n",
    "        elif \"-\" in category_num: # - i 로 표시한 사람것도 날리고 앞에 카테고리만 저장\r\n",
    "            category_num = int(category_num.split('-')[0])\r\n",
    "    category_count = category_count_dict[category_num] # 해당 이미지의 카테고리에 몇개의 이미지가 있는가\r\n",
    "    return category_count\r\n",
    "\r\n",
    "def preprocess(img_path,\r\n",
    "               #category_count,\r\n",
    "               # augmentation_num,\r\n",
    "               function)\r\n",
    "               # folder_name):\r\n",
    "    \r\n",
    "    img = function(img_path)\r\n",
    "    x = expand_dims(img,0)\r\n",
    "    return x\r\n",
    "'''\r\n",
    "    folder_path = \"C:/Users/seohyeonpark/프로젝트/data_augmentation_\" + str(folder_name) + \"/\" +str(category_num) # folder_path는 자기가 저장할 경로에 맞게 수정해주어야 함. str(category)는 건들지 말고 앞부분만 수정.\r\n",
    "\r\n",
    "    if not(os.path.isdir(folder_path)):\r\n",
    "        os.makedirs(folder_path)\r\n",
    "\r\n",
    "    img_num = int(augmentation_num/category_count)  # 총 10000장을 Augmentation할 건데, 카테고리 카운트가 1보다 큰 이미지는, my_img_pathes안에 같은 카테고리에 속하는 이미지가 또 있다는 의미.\r\n",
    "                                       # 만약 1번카테고리에 해당하는 이미지가 2장이 있다면, 각각 5000장씩 Augmentation해서 총 10000장을 맞춰주기 위해 categroy_count로 나누어줌.\r\n",
    "\r\n",
    "    if augmentation_num%category_count != 0: # 여기서 print의 결과로 나오는 이미지들은 10000의 약수가 아니므로, augmentation한 결과가 정확히 10000장이 되지 못함. 해당 카테고리에서는 수동으로 이미지 복붙해서 10000장 맞춰주세요.\r\n",
    "        print(category_num)\r\n",
    "\r\n",
    "    i=0 # x가 들어가는 이미지 형태\r\n",
    "    for batch in datagen.flow(x, batch_size=32, save_to_dir=folder_path, save_prefix=img_name, save_format=\"jpeg\"):\r\n",
    "        i+=1\r\n",
    "        if i > img_num:\r\n",
    "            break'''"
   ],
   "outputs": [],
   "metadata": {}
  },
  {
   "cell_type": "code",
   "execution_count": null,
   "source": [
    "''' 전처리 함수\r\n",
    "1. original : 원본 이미지\r\n",
    "2. threshold : Adaptive만 적용\r\n",
    "3. morphology : morph gradient만 적용\r\n",
    "4. threshold_sole : 이미지 대비 향상 -> Adaptive\r\n",
    "5. morph_threshold : morph gradient -> Adaptive \r\n",
    "6. morph_threshold_sole : 이미지 대비 향상 morph gradient -> adaptive threshold \r\n",
    "'''\r\n",
    "\r\n",
    "# 전처리 함수 자기 파트 # 빼고 진행하기\r\n",
    "#function = original # 선민\r\n",
    "#function = threshold # 세웅\r\n",
    "#function = threshold_sole # 예림\r\n",
    "#function = morph_threshold # 솔\r\n",
    "function = morph_threshold_sole # 서현\r\n",
    "\r\n",
    "for img_path in my_img_pathes:\r\n",
    "\r\n",
    "    ''' category별 개수 구하기 '''\r\n",
    "    img_name, category_count, category_num = count_category(img_path, category_count_dict)\r\n",
    "\r\n",
    "    ''' 전처리 '''\r\n",
    "\r\n",
    "    x = preprocess(img_path, function)\r\n",
    "\r\n",
    "    ''' Augment & Save '''\r\n",
    "\r\n",
    "    # augmentation 개수\r\n",
    "    img_num = 1800 # 1680 : 210의 배수로 해줘야 각 폴더에 들어가는 이미지 수가 최대한 비슷해짐\r\n",
    "    aug_num = int(img_num/category_count)\r\n",
    "    print(category_num, '_category count : ', category_count)\r\n",
    "    print(category_num, '_aug_num : ', aug_num)\r\n",
    "\r\n",
    "    # if img_num%category_count != 0: # 여기서 print의 결과로 나오는 이미지들은 10000의 약수가 아니므로, augmentation한 결과가 정확히 10000장이 되지 못함. 해당 카테고리에서는 수동으로 이미지 복붙해서 10000장 맞춰주세요.\r\n",
    "    #    print(category_num)\r\n",
    "\r\n",
    "\r\n",
    "    # 아래 폴더 이름은 \"C:/Users/seohyeonpark/프로젝트\" 부분만 원하는 경로로 바꿔주세요. \r\n",
    "    folder_path = \"C:/Users/seohyeonpark/프로젝트/Data Augmentation2\" + \"/\" + str(category_num) # folder_path는 자기가 저장할 경로에 맞게 수정해주어야 함. str(category)는 건들지 말고 앞부분만 수정.\r\n",
    "    if not(os.path.isdir(folder_path)):\r\n",
    "        os.makedirs(folder_path)\r\n",
    "    j=0\r\n",
    "    for batch in datagen.flow(x,\r\n",
    "                              batch_size=1,\r\n",
    "                              save_to_dir=folder_path,\r\n",
    "                              save_prefix=category_num,\r\n",
    "                              save_format=\"jpeg\"):\r\n",
    "        j+=1\r\n",
    "        if j > aug_num:\r\n",
    "            break"
   ],
   "outputs": [],
   "metadata": {
    "colab": {
     "base_uri": "https://localhost:8080/",
     "height": 478
    },
    "colab_type": "code",
    "id": "gz_D3luq9Pyr",
    "outputId": "88cdd47b-d578-4b8c-84d5-2e03f5807633"
   }
  },
  {
   "cell_type": "code",
   "execution_count": null,
   "source": [
    "category_num = []\r\n",
    "for i in category_nums:\r\n",
    "    if i not in category_num:\r\n",
    "        category_num.append(i)"
   ],
   "outputs": [],
   "metadata": {}
  },
  {
   "cell_type": "code",
   "execution_count": null,
   "source": [
    "# 각 카테고리 당 1500개의 이미지남 남기고 나머지는 랜덤으로 삭제\r\n",
    "import random\r\n",
    "for i in category_num:\r\n",
    "    ith_images = glob.glob(\"C:/Users/seohyeonpark/프로젝트/Data Augmentation2\" + \"/\" + str(i) + \"/*.jpeg\")\r\n",
    "    remove_images_pathes = random.sample(ith_images, len(ith_images) - 1500)\r\n",
    "    for path in remove_images_pathes:\r\n",
    "        os.remove(path)"
   ],
   "outputs": [],
   "metadata": {}
  },
  {
   "cell_type": "code",
   "execution_count": null,
   "source": [
    "# 카테고리 수 적어져서 카테고리당 validation data 개수를 111개로 늘림\r\n",
    "import random\r\n",
    "for category in category_num:\r\n",
    "    # 해당 category 폴더에서 무작위로 선택된 15개의 이미지 경로를 저장 (경로 지정해줘야 함)\r\n",
    "    folder_path = \"C:/Users/seohyeonpark/프로젝트/Data Augmentation2\" + \"/\" + str(category)\r\n",
    "    \r\n",
    "    all_images_pathes = glob.glob(folder_path+\"/*.jpeg\")\r\n",
    "    \r\n",
    "    # 아래 부분은 위의 my_image_pathes와 같이 주소가 정상적으로 안 불러져 왔을 경우에만 실행\r\n",
    "    i = 0\r\n",
    "    for path in all_images_pathes:\r\n",
    "        path = path.replace('\\\\','/')\r\n",
    "        all_images_pathes[i] = path\r\n",
    "        i += 1\r\n",
    "    \r\n",
    "    selected_images_pathes = random.sample(all_images_pathes, 111)\r\n",
    "    \r\n",
    "    # 이동할 폴더 생성(경로 지정해줘야 함)\r\n",
    "    to_images_pathes = \"C:/Users/seohyeonpark/프로젝트/augmented_validation2\" + \"/\" + str(category)\r\n",
    "    os.makedirs(to_images_pathes)\r\n",
    "    \r\n",
    "    for selected_image_path in selected_images_pathes:\r\n",
    "        file_name = selected_image_path.split('/')[-1]\r\n",
    "        from_image_path = folder_path + \"/\" + file_name\r\n",
    "        shutil.move(from_image_path, to_images_pathes)"
   ],
   "outputs": [],
   "metadata": {}
  },
  {
   "cell_type": "code",
   "execution_count": null,
   "source": [
    "for i in range(len(my_img_pathes)):\r\n",
    "    from_image_path = my_img_pathes[i]\r\n",
    "    file_name = my_img_pathes[i].split('/')[-1]\r\n",
    "    category_num = file_name.split('.')[0]\r\n",
    "    \r\n",
    "    \r\n",
    "    try:\r\n",
    "        category_num = int(category_num) # (i)번 째 안되어 있으면 바로 정수형으로 바꿔잇!\r\n",
    "    except:\r\n",
    "        if \"(\" in category_num: # (i)번째 표시되어있으면 날리고 앞에 카테고리만 저장\r\n",
    "            category_num = int(category_num.split(\"(\")[0])\r\n",
    "        elif \"-\" in category_num: # - i 로 표시한 사람것도 날리고 앞에 카테고리만 저장\r\n",
    "            category_num = int(category_num.split('-')[0])\r\n",
    "    \r\n",
    "    to_images_pathes = \"C:/Users/seohyeonpark/프로젝트/original_validation2\" + \"/\" + str(category_num)\r\n",
    "    if not(os.path.isdir(to_images_pathes)):\r\n",
    "        os.makedirs(to_images_pathes)\r\n",
    "    shutil.copy(from_image_path, to_images_pathes + \"/\" + file_name)"
   ],
   "outputs": [],
   "metadata": {}
  }
 ],
 "metadata": {
  "colab": {
   "collapsed_sections": [],
   "name": "Data_augmentation.ipynb",
   "provenance": []
  },
  "kernelspec": {
   "display_name": "Python 3",
   "language": "python",
   "name": "python3"
  },
  "language_info": {
   "codemirror_mode": {
    "name": "ipython",
    "version": 3
   },
   "file_extension": ".py",
   "mimetype": "text/x-python",
   "name": "python",
   "nbconvert_exporter": "python",
   "pygments_lexer": "ipython3",
   "version": "3.7.7"
  }
 },
 "nbformat": 4,
 "nbformat_minor": 1
}